{
 "cells": [
  {
   "cell_type": "markdown",
   "id": "af7f0019",
   "metadata": {},
   "source": [
    "## Preliminaries\n"
   ]
  },
  {
   "cell_type": "code",
   "execution_count": 1,
   "id": "56fd0c35",
   "metadata": {
    "id": "juL1jbZnKqjg"
   },
   "outputs": [],
   "source": [
    "## Import libraries\n",
    "import matplotlib\n",
    "import matplotlib.pyplot as plt \n",
    "%matplotlib inline\n",
    "import pandas as pd \n",
    "import numpy as np\n",
    "import seaborn as sns\n",
    "import sklearn as sk \n",
    "import scipy \n",
    " \n",
    "from sklearn.model_selection import train_test_split, cross_val_score, GridSearchCV\n",
    "from sklearn.pipeline import Pipeline\n",
    "from sklearn.linear_model import LinearRegression, Ridge, Lasso, LogisticRegression, LogisticRegressionCV\n",
    "from sklearn.preprocessing import StandardScaler\n",
    "from sklearn.metrics import make_scorer, mean_absolute_error, r2_score, mean_squared_error\n",
    "from sklearn.metrics import confusion_matrix, roc_curve, precision_recall_curve, auc, plot_roc_curve\n",
    "from scipy.stats import norm"
   ]
  },
  {
   "cell_type": "markdown",
   "id": "587ab402",
   "metadata": {
    "id": "tZ8l5TDDKqjh"
   },
   "source": [
    "## Dataset\n",
    "\n",
    "This dataset (\"DataSet\") is a subset of a dataset which contains years of daily observations of the weather at many geographical locations across a country.\n",
    "\n",
    "The main purpose of the dataset is to predict Raining on a day as a \"Yes\" or \"No\". \n",
    "When the rain is 1 mm or more the answer is \"Yes\", and \"No\" otherwise. \n",
    "The Observations are drawn from numerous weather stations. \n",
    "\n",
    "The variables are ientified as follows:\n",
    "\n",
    "1. Date - The date string of the recorded information (year-month-day) \n",
    "2. MinTemp - Minimum temperature in the 24 hours to 9am. Sometimes only known to the nearest whole degree (degrees Celsius).\n",
    "3. MaxTemp - Maximum temperature in the 24 hours to 9am. Sometimes only known to the nearest whole degree (degrees Celsius).\n",
    "4. Rainfall - Precipitation (rainfall) in the 24 hours to 9am. Sometimes only known to the nearest whole millimetre (millimetres).\n",
    "5. Evaporation - \"Class A\" pan evaporation in the 24 hours to 9am (milimeters).\n",
    "6. Sunshine - Bright sunshine in the 24 hours to midnight (hours).\n",
    "7. WindGustSpeed - Speed of strongest wind gust in the 24 hours to midnight (killometers per hour).\n",
    "8. WindDir - Direction of strongest wind gust in the 24 hours to midnight (4 compass points North, South, East, West).\n",
    "9. WindSpeed9am - Wind speed averaged over 10 minutes prior to 9 am (killometers per hour).\n",
    "10. WindSpeed3am - Wind speed averaged over 10 minutes prior to 3 pm (killometers per hour).\n",
    "11. Humidity - Relative humidity (percent).\n",
    "12. Pressure9am - Atmospheric pressure reduced to mean sea level at 9 am (hectopascals).\n",
    "13. Pressure3pm - Atmospheric pressure reduced to mean sea level at 3 pm (hectopascals).\n",
    "14. Cloud9am - Fraction of sky obscured by cloud at 9 am (eighths).\n",
    "15. Cloud3pm - Fraction of sky obscured by cloud at 3 pm (eighths).\n",
    "16. Temp9am - Temperature at 9 am (degrees Celsius).\n",
    "17. Temp3pm - Temperature at 3 pm (degrees Celsius).\n",
    "18. RainToday - Raining today (\"Yes\"/\"No\").\n",
    "19. RainTomorrow - Raining tomorrow (\"Yes\"/\"No\").\n",
    "\n",
    "\n"
   ]
  },
  {
   "cell_type": "markdown",
   "id": "976b6ba4",
   "metadata": {
    "id": "NgWAAdvTKqjh"
   },
   "source": [
    "## Linear Regression - Predicting the amount of Rainfall (65 pts)"
   ]
  },
  {
   "cell_type": "code",
   "execution_count": 5,
   "id": "d1f3b96a",
   "metadata": {
    "id": "on9-x8o3Kqji",
    "outputId": "d2627e7b-d16c-4c93-a5f8-6301bbcf7000"
   },
   "outputs": [
    {
     "data": {
      "text/html": [
       "<div>\n",
       "<style scoped>\n",
       "    .dataframe tbody tr th:only-of-type {\n",
       "        vertical-align: middle;\n",
       "    }\n",
       "\n",
       "    .dataframe tbody tr th {\n",
       "        vertical-align: top;\n",
       "    }\n",
       "\n",
       "    .dataframe thead th {\n",
       "        text-align: right;\n",
       "    }\n",
       "</style>\n",
       "<table border=\"1\" class=\"dataframe\">\n",
       "  <thead>\n",
       "    <tr style=\"text-align: right;\">\n",
       "      <th></th>\n",
       "      <th>MinTemp</th>\n",
       "      <th>MaxTemp</th>\n",
       "      <th>Rainfall</th>\n",
       "      <th>Evaporation</th>\n",
       "      <th>Sunshine</th>\n",
       "      <th>WindGustSpeed</th>\n",
       "      <th>WindSpeed9am</th>\n",
       "      <th>WindSpeed3pm</th>\n",
       "      <th>Humidity</th>\n",
       "      <th>Pressure9am</th>\n",
       "      <th>Pressure3pm</th>\n",
       "      <th>Cloud9am</th>\n",
       "      <th>Cloud3pm</th>\n",
       "      <th>Temp9am</th>\n",
       "      <th>Temp3pm</th>\n",
       "    </tr>\n",
       "  </thead>\n",
       "  <tbody>\n",
       "    <tr>\n",
       "      <th>count</th>\n",
       "      <td>907.000000</td>\n",
       "      <td>907.000000</td>\n",
       "      <td>907.000000</td>\n",
       "      <td>907.000000</td>\n",
       "      <td>907.000000</td>\n",
       "      <td>907.000000</td>\n",
       "      <td>907.000000</td>\n",
       "      <td>907.000000</td>\n",
       "      <td>907.000000</td>\n",
       "      <td>907.000000</td>\n",
       "      <td>907.000000</td>\n",
       "      <td>907.000000</td>\n",
       "      <td>907.000000</td>\n",
       "      <td>907.000000</td>\n",
       "      <td>907.000000</td>\n",
       "    </tr>\n",
       "    <tr>\n",
       "      <th>mean</th>\n",
       "      <td>13.414333</td>\n",
       "      <td>23.428335</td>\n",
       "      <td>4.402867</td>\n",
       "      <td>5.105072</td>\n",
       "      <td>7.054686</td>\n",
       "      <td>43.628445</td>\n",
       "      <td>17.275634</td>\n",
       "      <td>20.678060</td>\n",
       "      <td>53.879824</td>\n",
       "      <td>1016.186880</td>\n",
       "      <td>1013.828115</td>\n",
       "      <td>4.558986</td>\n",
       "      <td>4.697905</td>\n",
       "      <td>17.774862</td>\n",
       "      <td>21.857552</td>\n",
       "    </tr>\n",
       "    <tr>\n",
       "      <th>std</th>\n",
       "      <td>6.417740</td>\n",
       "      <td>7.261593</td>\n",
       "      <td>11.423447</td>\n",
       "      <td>3.410964</td>\n",
       "      <td>3.962936</td>\n",
       "      <td>14.703012</td>\n",
       "      <td>8.924449</td>\n",
       "      <td>8.995093</td>\n",
       "      <td>21.092195</td>\n",
       "      <td>7.214124</td>\n",
       "      <td>7.111339</td>\n",
       "      <td>2.833417</td>\n",
       "      <td>2.662640</td>\n",
       "      <td>6.692285</td>\n",
       "      <td>7.187933</td>\n",
       "    </tr>\n",
       "    <tr>\n",
       "      <th>min</th>\n",
       "      <td>-2.500000</td>\n",
       "      <td>7.200000</td>\n",
       "      <td>0.000000</td>\n",
       "      <td>0.000000</td>\n",
       "      <td>0.000000</td>\n",
       "      <td>15.000000</td>\n",
       "      <td>2.000000</td>\n",
       "      <td>2.000000</td>\n",
       "      <td>1.000000</td>\n",
       "      <td>988.300000</td>\n",
       "      <td>987.300000</td>\n",
       "      <td>0.000000</td>\n",
       "      <td>0.000000</td>\n",
       "      <td>3.200000</td>\n",
       "      <td>4.800000</td>\n",
       "    </tr>\n",
       "    <tr>\n",
       "      <th>25%</th>\n",
       "      <td>8.600000</td>\n",
       "      <td>17.200000</td>\n",
       "      <td>0.000000</td>\n",
       "      <td>2.600000</td>\n",
       "      <td>3.800000</td>\n",
       "      <td>33.000000</td>\n",
       "      <td>11.000000</td>\n",
       "      <td>13.000000</td>\n",
       "      <td>39.000000</td>\n",
       "      <td>1011.300000</td>\n",
       "      <td>1008.900000</td>\n",
       "      <td>2.000000</td>\n",
       "      <td>2.000000</td>\n",
       "      <td>12.100000</td>\n",
       "      <td>15.900000</td>\n",
       "    </tr>\n",
       "    <tr>\n",
       "      <th>50%</th>\n",
       "      <td>12.900000</td>\n",
       "      <td>23.500000</td>\n",
       "      <td>0.000000</td>\n",
       "      <td>4.400000</td>\n",
       "      <td>7.800000</td>\n",
       "      <td>41.000000</td>\n",
       "      <td>17.000000</td>\n",
       "      <td>20.000000</td>\n",
       "      <td>55.000000</td>\n",
       "      <td>1016.100000</td>\n",
       "      <td>1013.800000</td>\n",
       "      <td>6.000000</td>\n",
       "      <td>6.000000</td>\n",
       "      <td>17.100000</td>\n",
       "      <td>21.700000</td>\n",
       "    </tr>\n",
       "    <tr>\n",
       "      <th>75%</th>\n",
       "      <td>18.500000</td>\n",
       "      <td>29.500000</td>\n",
       "      <td>4.200000</td>\n",
       "      <td>7.000000</td>\n",
       "      <td>10.300000</td>\n",
       "      <td>52.000000</td>\n",
       "      <td>22.000000</td>\n",
       "      <td>26.000000</td>\n",
       "      <td>68.000000</td>\n",
       "      <td>1021.250000</td>\n",
       "      <td>1018.850000</td>\n",
       "      <td>7.000000</td>\n",
       "      <td>7.000000</td>\n",
       "      <td>23.200000</td>\n",
       "      <td>27.550000</td>\n",
       "    </tr>\n",
       "    <tr>\n",
       "      <th>max</th>\n",
       "      <td>29.700000</td>\n",
       "      <td>42.900000</td>\n",
       "      <td>168.400000</td>\n",
       "      <td>22.800000</td>\n",
       "      <td>13.800000</td>\n",
       "      <td>100.000000</td>\n",
       "      <td>59.000000</td>\n",
       "      <td>54.000000</td>\n",
       "      <td>100.000000</td>\n",
       "      <td>1038.800000</td>\n",
       "      <td>1036.600000</td>\n",
       "      <td>8.000000</td>\n",
       "      <td>8.000000</td>\n",
       "      <td>39.000000</td>\n",
       "      <td>41.400000</td>\n",
       "    </tr>\n",
       "  </tbody>\n",
       "</table>\n",
       "</div>"
      ],
      "text/plain": [
       "          MinTemp     MaxTemp    Rainfall  Evaporation    Sunshine  \\\n",
       "count  907.000000  907.000000  907.000000   907.000000  907.000000   \n",
       "mean    13.414333   23.428335    4.402867     5.105072    7.054686   \n",
       "std      6.417740    7.261593   11.423447     3.410964    3.962936   \n",
       "min     -2.500000    7.200000    0.000000     0.000000    0.000000   \n",
       "25%      8.600000   17.200000    0.000000     2.600000    3.800000   \n",
       "50%     12.900000   23.500000    0.000000     4.400000    7.800000   \n",
       "75%     18.500000   29.500000    4.200000     7.000000   10.300000   \n",
       "max     29.700000   42.900000  168.400000    22.800000   13.800000   \n",
       "\n",
       "       WindGustSpeed  WindSpeed9am  WindSpeed3pm    Humidity  Pressure9am  \\\n",
       "count     907.000000    907.000000    907.000000  907.000000   907.000000   \n",
       "mean       43.628445     17.275634     20.678060   53.879824  1016.186880   \n",
       "std        14.703012      8.924449      8.995093   21.092195     7.214124   \n",
       "min        15.000000      2.000000      2.000000    1.000000   988.300000   \n",
       "25%        33.000000     11.000000     13.000000   39.000000  1011.300000   \n",
       "50%        41.000000     17.000000     20.000000   55.000000  1016.100000   \n",
       "75%        52.000000     22.000000     26.000000   68.000000  1021.250000   \n",
       "max       100.000000     59.000000     54.000000  100.000000  1038.800000   \n",
       "\n",
       "       Pressure3pm    Cloud9am    Cloud3pm     Temp9am     Temp3pm  \n",
       "count   907.000000  907.000000  907.000000  907.000000  907.000000  \n",
       "mean   1013.828115    4.558986    4.697905   17.774862   21.857552  \n",
       "std       7.111339    2.833417    2.662640    6.692285    7.187933  \n",
       "min     987.300000    0.000000    0.000000    3.200000    4.800000  \n",
       "25%    1008.900000    2.000000    2.000000   12.100000   15.900000  \n",
       "50%    1013.800000    6.000000    6.000000   17.100000   21.700000  \n",
       "75%    1018.850000    7.000000    7.000000   23.200000   27.550000  \n",
       "max    1036.600000    8.000000    8.000000   39.000000   41.400000  "
      ]
     },
     "execution_count": 5,
     "metadata": {},
     "output_type": "execute_result"
    }
   ],
   "source": [
    "df = pd.read_csv('DataSet.csv')\n",
    "df.describe()   \n"
   ]
  },
  {
   "cell_type": "markdown",
   "id": "3f5befcd",
   "metadata": {},
   "source": [
    "### Preprocessing\n",
    "* Drop the variables: 'RainToday','RainTomorrow'.\n",
    "\n",
    "* Use \"Date\" variable to find the numerical variable 'Month'. Therefore, you will have an additional column 'Month'. Then dummmy code \"Month\" and drop the variable \"Date\". \n",
    "* Find all other catecorical variables and Dummy code them (One Hot Encoding) and drop the first column for each variable.\n"
   ]
  },
  {
   "cell_type": "code",
   "execution_count": 6,
   "id": "f37bd089",
   "metadata": {},
   "outputs": [
    {
     "name": "stdout",
     "output_type": "stream",
     "text": [
      "<class 'pandas.core.frame.DataFrame'>\n",
      "RangeIndex: 907 entries, 0 to 906\n",
      "Data columns (total 29 columns):\n",
      " #   Column         Non-Null Count  Dtype  \n",
      "---  ------         --------------  -----  \n",
      " 0   MinTemp        907 non-null    float64\n",
      " 1   MaxTemp        907 non-null    float64\n",
      " 2   Rainfall       907 non-null    float64\n",
      " 3   Evaporation    907 non-null    float64\n",
      " 4   Sunshine       907 non-null    float64\n",
      " 5   WindGustSpeed  907 non-null    int64  \n",
      " 6   WindSpeed9am   907 non-null    int64  \n",
      " 7   WindSpeed3pm   907 non-null    int64  \n",
      " 8   Humidity       907 non-null    int64  \n",
      " 9   Pressure9am    907 non-null    float64\n",
      " 10  Pressure3pm    907 non-null    float64\n",
      " 11  Cloud9am       907 non-null    int64  \n",
      " 12  Cloud3pm       907 non-null    int64  \n",
      " 13  Temp9am        907 non-null    float64\n",
      " 14  Temp3pm        907 non-null    float64\n",
      " 15  Month_2        907 non-null    uint8  \n",
      " 16  Month_3        907 non-null    uint8  \n",
      " 17  Month_4        907 non-null    uint8  \n",
      " 18  Month_5        907 non-null    uint8  \n",
      " 19  Month_6        907 non-null    uint8  \n",
      " 20  Month_7        907 non-null    uint8  \n",
      " 21  Month_8        907 non-null    uint8  \n",
      " 22  Month_9        907 non-null    uint8  \n",
      " 23  Month_10       907 non-null    uint8  \n",
      " 24  Month_11       907 non-null    uint8  \n",
      " 25  Month_12       907 non-null    uint8  \n",
      " 26  WindDir_N      907 non-null    uint8  \n",
      " 27  WindDir_S      907 non-null    uint8  \n",
      " 28  WindDir_W      907 non-null    uint8  \n",
      "dtypes: float64(9), int64(6), uint8(14)\n",
      "memory usage: 118.8 KB\n"
     ]
    }
   ],
   "source": [
    "df = df.drop(['RainToday', 'RainTomorrow'], axis='columns') #Drop the variables\n",
    "\n",
    "df['Date'] = pd.to_datetime(df['Date']) #convert 'Date' into datetime format \n",
    "df['Month'] = df['Date'].dt.month # extract month from date\n",
    "\n",
    "df.drop('Date', axis=1, inplace = True) #Drop the variable\n",
    "\n",
    "df = pd.get_dummies(df, drop_first=True, columns=['Month', 'WindDir'])\n",
    "df.info() #optional"
   ]
  },
  {
   "cell_type": "markdown",
   "id": "ac0cfa29",
   "metadata": {},
   "source": [
    "We had 12 months and 4 directions in \"Month\" and 'WindDir' and we dropped the first column for both. So we added (12 - 1) + (4 - 1) = 14 new variables."
   ]
  },
  {
   "cell_type": "markdown",
   "id": "fe25e760",
   "metadata": {},
   "source": [
    "### Q 1.3: Visualization\n",
    "\n",
    "Plotting the joint distribution between the Rainfall and the MinTemp and show the marginal distributions of those two variables in the plot as well.   "
   ]
  },
  {
   "cell_type": "code",
   "execution_count": 7,
   "id": "6ff65b37",
   "metadata": {},
   "outputs": [
    {
     "data": {
      "image/png": "[encoded data removed]",
      "text/plain": [
       "<Figure size 600x600 with 3 Axes>"
      ]
     },
     "metadata": {},
     "output_type": "display_data"
    }
   ],
   "source": [
    "ax = sns.jointplot(x=df['MinTemp'],y=df['Rainfall'])\n",
    "ax.ax_joint.set_xlabel('Minimum Tempreture')\n",
    "ax.ax_joint.set_ylabel('Rainfall')\n",
    "plt.show()"
   ]
  },
  {
   "cell_type": "markdown",
   "id": "e72da9d4",
   "metadata": {},
   "source": [
    "We can see the Rainfall has a very skewed distribution. It is not completely clear if MinTemp and Rainfall are related given this skewness, but they appear to be positively correlated (move in the same direction)."
   ]
  },
  {
   "cell_type": "markdown",
   "id": "cd464e98",
   "metadata": {},
   "source": [
    "### Transformation\n",
    "\n",
    "Logarithm transformation is one of the most commonly used mathematical transformations in feature engineering to approximate the distribution close to normal. Given the distribution of the Rainfall variable, use the logarithm of the Rainfall instead of the original variable as a new target variable and add to the dataset (name it ```LogRainfall```) where $LogRainfall = log(Rainfall + 1)$. (You add 1 because the data you apply log transform must have only positive values).  \n",
    "\n",
    "Plot the joint distribution of the new variable ```LogRainfall``` and the MinTemp. \n"
   ]
  },
  {
   "cell_type": "code",
   "execution_count": 8,
   "id": "d7cd8b45",
   "metadata": {},
   "outputs": [
    {
     "data": {
      "image/png": "[encoded data removed]",
      "text/plain": [
       "<Figure size 600x600 with 3 Axes>"
      ]
     },
     "metadata": {},
     "output_type": "display_data"
    }
   ],
   "source": [
    "# Create the logarithmic transformation [1pt]\n",
    "df['LogRainfall'] = np.log(df['Rainfall'] + 1)\n",
    "\n",
    "# Plot relationship [1pt]\n",
    "ax = sns.jointplot(x=df['MinTemp'], y=df['LogRainfall'])\n",
    "ax.ax_joint.set_xlabel('Minimum Tempreture')\n",
    "ax.ax_joint.set_ylabel('Rainfall (log)')\n",
    "plt.show()\n"
   ]
  },
  {
   "cell_type": "markdown",
   "id": "d3b630bc",
   "metadata": {},
   "source": [
    "Log transform helped to handle skewed data and after transformation, the distribution became more approximate to normal. It seems to be a slight positive trend between two variables."
   ]
  },
  {
   "cell_type": "markdown",
   "id": "57c798a6",
   "metadata": {
    "id": "scxSOxQDKqjl"
   },
   "source": [
    "### Regression Analysis "
   ]
  },
  {
   "cell_type": "code",
   "execution_count": 9,
   "id": "e93fe04d",
   "metadata": {},
   "outputs": [
    {
     "name": "stdout",
     "output_type": "stream",
     "text": [
      "The MAE of the Rainfall regression is 5.612 and the MAE of the log-Rainfall regression is 4.060\n"
     ]
    }
   ],
   "source": [
    "# Separate targets (Rainfall and LogRainfall) from the dataset (columns 2 and 29), we know its 2 and 29 because our results in 1.2 show it\n",
    "# we would see rainfall in column 2. Then it ends at 28 so when we add logRainfall it would be in the last collumn which is 29 here.\n",
    "# and use the rest as fetures for prediction\n",
    "featurs = np.r_[0:2, 3:29]\n",
    "targets = np.r_[2, 29]\n",
    "\n",
    "# Split train and test\n",
    "x_train, x_test, y_train, y_test = train_test_split(df.iloc[:, featurs],\n",
    "                                                    df.iloc[:, targets],\n",
    "                                                    test_size=0.3, \n",
    "                                                    random_state=1)\n",
    "\n",
    "# Linear regression models\n",
    "Rainfall_reg = LinearRegression()\n",
    "logRainfall_reg = LinearRegression()\n",
    "\n",
    "# Fit models\n",
    "Rainfall_reg.fit(x_train, y_train.iloc[:,0])\n",
    "logRainfall_reg.fit(x_train, y_train.iloc[:,1])\n",
    "\n",
    "# Predict\n",
    "pred_Rainfall = Rainfall_reg.predict(x_test)\n",
    "pred_logRainfall = logRainfall_reg.predict(x_test)\n",
    "pred_logRainfall = np.exp(pred_logRainfall) - 1\n",
    "\n",
    "# Report mean absolute error (MAE)\n",
    "mae_Rainfall = mean_absolute_error(y_test.iloc[:, 0], pred_Rainfall)\n",
    "mae_logRainfall = mean_absolute_error(y_test.iloc[:, 0], pred_logRainfall)\n",
    "\n",
    "print('The MAE of the Rainfall regression is %.3f and the MAE of the log-Rainfall regression is %.3f' % (mae_Rainfall, mae_logRainfall))"
   ]
  },
  {
   "cell_type": "markdown",
   "id": "eeb96ecd",
   "metadata": {},
   "source": [
    "The results show that the logarithmic model is the more accurate model, with smaller error. For the untransformed data, the distribution is very sweked, so the model will be very sensitive to the outliers. This makes the predictions variable. For the model trained on log-transformed outputs, this effect is mitigated and predictions become less variable."
   ]
  },
  {
   "cell_type": "markdown",
   "id": "a95b6406",
   "metadata": {
    "id": "Bj9QWyEvKqjm",
    "outputId": "32bba95c-8f82-4d6f-918f-56b6056eb1f5"
   },
   "source": [
    "## Regularized model\n",
    "We will build a reqularized regression model and observe the effect of regularization. **Evaporation** will be used as target variable.\n"
   ]
  },
  {
   "cell_type": "code",
   "execution_count": 10,
   "id": "ee910407",
   "metadata": {},
   "outputs": [],
   "source": [
    "df = pd.read_csv('DataSet.csv')\n",
    "df = df.drop(['RainToday'], axis='columns')\n",
    "df = df.drop(['RainTomorrow'], axis='columns')\n",
    "# df = df.drop(['WindDir'], axis='columns')\n",
    "df['Date'] = pd.to_datetime(df['Date'])\n",
    "\n",
    "# extract month from date\n",
    "\n",
    "df['Month'] = df['Date'].dt.month\n",
    "df.drop('Date', axis=1, inplace = True)\n",
    "# df = pd.get_dummies(df, drop_first=True, columns=['Month'])  # We just commented this out\n",
    "df = pd.get_dummies(df, drop_first=True, columns=['WindDir'])\n"
   ]
  },
  {
   "cell_type": "markdown",
   "id": "dbe46b4c",
   "metadata": {
    "id": "BFtvfvPyKqjj"
   },
   "source": [
    "### Fourier Transforms\n",
    "Fourier Transform is a reasonable option to encode periodic data. \n",
    "\n",
    "Write a function `FourierExpansion(x,order)`, which takes a variable `x` scaled between 0 and 1 (scale by dividing to the maximum value), and returns a design matrix that has order times 2 columns. The first 2 columns should be set to: \n",
    "\n",
    "$sin(2 \\pi x)$\n",
    "\n",
    "$cos(2 \\pi x)$\n",
    "\n",
    "The next two columns: \n",
    "\n",
    "$sin(4 \\pi x)$\n",
    "\n",
    "$cos(4 \\pi x)$\n",
    "\n",
    "$...$\n",
    "\n",
    "and the last two columns: \n",
    "\n",
    "$sin(2 order \\pi x)$\n",
    "\n",
    "$cos(2 order \\pi x)$\n"
   ]
  },
  {
   "cell_type": "code",
   "execution_count": 11,
   "id": "619c969a",
   "metadata": {},
   "outputs": [],
   "source": [
    "def FourierExpansion(x,order):\n",
    "    x=x*2*np.pi\n",
    "    X=np.zeros((x.shape[0],0))\n",
    "    for i in range(order):\n",
    "        f = i+1; \n",
    "        X = np.c_[X,np.sin(f*x),np.cos(f*x)]\n",
    "    return X "
   ]
  },
  {
   "cell_type": "markdown",
   "id": "c4c46208",
   "metadata": {
    "id": "x_G3ZmDXKqjj",
    "outputId": "9c8b6e9e-7d31-4770-fd9f-71df7f4c5fa4"
   },
   "source": [
    "### Q 2.3  (20 pts)  "
   ]
  },
  {
   "cell_type": "code",
   "execution_count": 12,
   "id": "51f36e9b",
   "metadata": {},
   "outputs": [
    {
     "name": "stdout",
     "output_type": "stream",
     "text": [
      "R2 Model 1: 0.366\n",
      "R2 for Model 2: 0.366\n"
     ]
    }
   ],
   "source": [
    "# Create the 2 design matrices \n",
    "X1 = np.c_[FourierExpansion(df.Month/12, 6)]\n",
    "X1 = np.delete(X1, 2, axis=1)\n",
    "X2 = np.c_[pd.get_dummies(df.Month, drop_first=True)]\n",
    "\n",
    "# Build and evaluate the regression models \n",
    "linreg1 = LinearRegression(fit_intercept=True) \n",
    "linreg1.fit(X1, df.Evaporation)\n",
    "r2_1 = linreg1.score(X1, df.Evaporation)\n",
    "\n",
    "linreg2 = LinearRegression(fit_intercept=True) \n",
    "linreg2.fit(X2,df.Evaporation)\n",
    "r2_2 = linreg2.score(X2,df.Evaporation)\n",
    "\n",
    "\n",
    "print(f'R2 Model 1: %.3f' % (r2_1))\n",
    "print(f'R2 for Model 2: %.3f' % (r2_2))\n"
   ]
  },
  {
   "cell_type": "markdown",
   "id": "294f2e55",
   "metadata": {},
   "source": [
    "Both models fit the data equally well - they both have 11 features which together with the intercept can fit any arbitary non-linear function of month."
   ]
  },
  {
   "cell_type": "markdown",
   "id": "03bd0716",
   "metadata": {},
   "source": [
    "### Testing outcomes\n",
    "a) Modify your dummy encoding model (Model 2 from Q2.3), by **NOT dropping** the first column. This design matrix should have 12 regressors now. \n",
    "\n",
    "b) Build a pipeline, which first applies z-Standardization to each column of the design matrix and then fit an L2-regularlized linear model.\n",
    "\n",
    "c) Do a grid search, varying the regularization parameter between $exp(-5)$ and $exp(4)$ in 10 steps for the fourier-encoded model, (Model 1 from Q2.3). Evaluate each setting of $\\lambda$ using the mean-squared-error with 10-fold cross-validation. Plot the average validation error (y-axis) against $log(\\lambda)$ (x-axis). (*Hint: If you did not succeed in generating a fourier feature set, use `polynomialFeatures` to make a polynomial feature set for month of order 11.*) \n",
    "\n",
    "d) Repeat (c), this time using the dummy-coded feature set (modified Model 2 from Q2.3, in part a of this question). Plot the average validation error with a different color in the same plot as part (c), so you can compare the models. \n",
    "\n",
    "e) Report the $\\lambda$ value for each model that gives the best validation error. \n",
    "\n",
    "**Written answer:** Why don't the two models behave the same way, as they did in Q2.3? "
   ]
  },
  {
   "cell_type": "code",
   "execution_count": 13,
   "id": "e38016b6",
   "metadata": {},
   "outputs": [
    {
     "name": "stdout",
     "output_type": "stream",
     "text": [
      "Model 1 lambda: 37.363\n",
      "Model 2 lambda: 26.466\n"
     ]
    },
    {
     "data": {
      "image/png": "[encoded data removed]",
      "text/plain": [
       "<Figure size 640x480 with 1 Axes>"
      ]
     },
     "metadata": {},
     "output_type": "display_data"
    }
   ],
   "source": [
    "# a. Generate new dummy encoding but not dropping the first column\n",
    "X2 = np.c_[pd.get_dummies(df.Month,drop_first=False)]\n",
    "\n",
    "# b. Build the pipeline with StandardScaler and Ridge \n",
    "pip = Pipeline([\n",
    "    ('std', StandardScaler()),\n",
    "    ('reg', Ridge())\n",
    "    ])\n",
    "\n",
    "# c. Grid search \n",
    "log_lambda = np.linspace(-5,5,30)\n",
    "params = {'reg__alpha': np.exp(log_lambda)}\n",
    "gscv1 = GridSearchCV(pip, param_grid=params, cv=10, scoring = 'neg_mean_squared_error', refit=True)\n",
    "gscv1.fit(X1, df.Evaporation)\n",
    "MSE1 = -gscv1.cv_results_['mean_test_score']\n",
    "plt.scatter(log_lambda, MSE1,color='b')\n",
    "\n",
    "# d. \n",
    "gscv2 = GridSearchCV(pip, param_grid=params, cv=10, scoring = 'neg_mean_squared_error', refit=True)\n",
    "gscv2.fit(X2, df.Evaporation)\n",
    "MSE2 = -gscv2.cv_results_['mean_test_score']\n",
    "plt.scatter(log_lambda, MSE2,color='r')\n",
    "\n",
    "plt.xlabel(r'$-\\log(\\lambda)$')\n",
    "plt.ylabel('Validation error')\n",
    "\n",
    "\n",
    "# e. Report the best regularization parameter \n",
    "lambda1 = gscv1.best_params_['reg__alpha']\n",
    "lambda2 = gscv2.best_params_['reg__alpha']\n",
    "print(f'Model 1 lambda: %.3f' % lambda1)\n",
    "print(f'Model 2 lambda: %.3f' % lambda2)"
   ]
  },
  {
   "cell_type": "markdown",
   "id": "eaf71f8b",
   "metadata": {},
   "source": [
    "The two models behave differently - with the fourier set achieving lower validation error needing a bigger value of the regularization parameter. Regulatization pushes two models towards different solutions."
   ]
  }
 ],
 "metadata": {
  "colab": {
   "name": "Copy of Midterm_2021_Solution.ipynb",
   "provenance": []
  },
  "kernelspec": {
   "display_name": "Python 3 (ipykernel)",
   "language": "python",
   "name": "python3"
  },
  "language_info": {
   "codemirror_mode": {
    "name": "ipython",
    "version": 3
   },
   "file_extension": ".py",
   "mimetype": "text/x-python",
   "name": "python",
   "nbconvert_exporter": "python",
   "pygments_lexer": "ipython3",
   "version": "3.11.4"
  }
 },
 "nbformat": 4,
 "nbformat_minor": 5
}
