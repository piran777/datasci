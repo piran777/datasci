{
 "cells": [
  {
   "cell_type": "code",
   "execution_count": 1,
   "metadata": {
    "id": "45VAP00lUkc5"
   },
   "outputs": [],
   "source": [
    "import numpy as np\n",
    "np.random.seed(42)"
   ]
  },
  {
   "cell_type": "code",
   "execution_count": 2,
   "metadata": {
    "id": "e9fI_lLV3MhP"
   },
   "outputs": [],
   "source": [
    "import os\n",
    "import pandas as pd\n",
    "from sklearn.model_selection import train_test_split, GridSearchCV\n",
    "from sklearn.pipeline import Pipeline\n",
    "from sklearn.ensemble import RandomForestClassifier,BaggingClassifier\n",
    "from sklearn.tree import DecisionTreeClassifier\n",
    "from sklearn.decomposition import PCA\n",
    "from sklearn.preprocessing import StandardScaler\n",
    "from sklearn.metrics import classification_report, accuracy_score, f1_score, recall_score, precision_score, confusion_matrix\n",
    "import time"
   ]
  },
  {
   "cell_type": "markdown",
   "metadata": {
    "id": "3YmD_jy2VkV5"
   },
   "source": [
    "## Dataset Description\n",
    "In the datasets, the features are the vibration measurements in columns A, B, ... , H, which correspond to (X1, X2, ... , X8) measurement signals. Each feature represents a vibration signal inside the furnace at several frequency bands. Each example is a measurement recorded at a time instance (Timestamp), which are considered time-series data measurements."
   ]
  },
  {
   "cell_type": "markdown",
   "metadata": {
    "id": "UD1u-9MwVY5k"
   },
   "source": [
    "## Data Preparations\n",
    "\n",
    "A) Read \"normal.csv\" as a pandas dataframe \"normalData\", and print out the shape of the normal dataset.\n",
    "\n",
    "B) Read \"anomalous.csv\" as a pandas dataframe \"anomalousData\", and print out the shape of the nomalous dataset.\n"
   ]
  },
  {
   "cell_type": "code",
   "execution_count": 3,
   "metadata": {
    "id": "VYa70oGzXmbl"
   },
   "outputs": [
    {
     "name": "stdout",
     "output_type": "stream",
     "text": [
      "(76593, 10)\n"
     ]
    }
   ],
   "source": [
    "normalData = pd.read_csv('normal.csv')\n",
    "print(normalData.shape)"
   ]
  },
  {
   "cell_type": "code",
   "execution_count": 4,
   "metadata": {
    "id": "T2EbZ-FwYIGl"
   },
   "outputs": [
    {
     "name": "stdout",
     "output_type": "stream",
     "text": [
      "(2599, 10)\n"
     ]
    }
   ],
   "source": [
    "anomalousData = pd.read_csv('anomalous.csv')\n",
    "print(anomalousData.shape)"
   ]
  },
  {
   "cell_type": "markdown",
   "metadata": {
    "id": "A2LBEIAJYQV1"
   },
   "source": [
    "## Supervised Learning Algorithms\n",
    "\n",
    "A) Complete the myTrainTestSplit function, which takes as input **two dataframes** consisting of the normal and anomalous datasets, reserves 30 percent of each dataframe for testing and **returns 4 variables, Xtrain, Xtest, ytrain, and ytest**. \n",
    "\n",
    "*Note: you can use `concat` from pandas library to concatenade trainig sets from two dataframes, and test sets from two dataframes.*\n",
    "\n",
    "\n",
    "B) Apply a Decision Tree model for classifying the events as normal or anomalous. Fill in the myDecisionTree function, which accepts as input the training set and returns a fully trained model. \n",
    "\n",
    "C) Apply a Bagging model that consists of 10 base decision trees for classifying the events as normal or anomalous. Fill in the myBagging function, which accepts as input the training set and returns a fully trained model. \n",
    "\n",
    "D) Apply a Random Forest model that consists of 10 base decision trees for classifying the events as normal or anomalous. Fill in the myRandomForest function, which accepts as input the training set and returns a fully trained model. \n",
    "\n",
    "E) Based on the trained Random Forest model from 2D, use a horizontal bar plot to plot the feature importance scores of all features (Timestamp, X1-X8).\n",
    "\n",
    "F) Fill in the myEvaluateSupervisedModelPerformance function, which takes as input the training and test sets. Please note, you will need to call your functions from 2B, 2C, and 2D within this function to train your models. \n",
    "- Calculate the training time for comparing models. \n",
    "- Evaluate the performance of your models using 3 metrics of `Recall`, `Preceision` and `f1 score`. Return three numpy arrays consisting of the three metrics calculated for each model on the test set and print them out. \n",
    "- Also, print out the confusion matrix of your three models on the test set. \n"
   ]
  },
  {
   "cell_type": "code",
   "execution_count": 5,
   "metadata": {
    "id": "7kC7gNWGQbC1"
   },
   "outputs": [],
   "source": [
    "def myTrainTestSplit(normalData, anomalousData):\n",
    "    Xn = normalData.iloc[:, :9]\n",
    "    yn = normalData['Anomaly_Tag']\n",
    "    yn = yn.astype(int)\n",
    "    Xtrain_N, Xtest_N, ytrain_N, ytest_N = train_test_split(Xn, yn, test_size=0.30, random_state=42)\n",
    "\n",
    "    Xa = anomalousData.iloc[:, :9]\n",
    "    ya = anomalousData['Anomaly_Tag']\n",
    "    ya = ya.astype(int)\n",
    "    Xtrain_A, Xtest_A, ytrain_A, ytest_A = train_test_split(Xa, ya, test_size=0.30, random_state=42)\n",
    "\n",
    "    Xtrain = pd.concat([Xtrain_N,Xtrain_A])\n",
    "    Xtest = pd.concat([Xtest_N,Xtest_A])\n",
    "    ytrain = pd.concat([ytrain_N,ytrain_A])\n",
    "    ytest = pd.concat([ytest_N,ytest_A])\n",
    "    return Xtrain, Xtest, ytrain, ytest\n",
    "\n",
    "#Call the function here\n",
    "Xtrain, Xtest, ytrain, ytest = myTrainTestSplit(normalData, anomalousData)"
   ]
  },
  {
   "cell_type": "code",
   "execution_count": 6,
   "metadata": {},
   "outputs": [],
   "source": [
    "def myTrainTestSplit(normalData, anomalousData):    \n",
    "    Data = pd.concat([normalData,anomalousData])\n",
    "    X = Data.iloc[:, :9]\n",
    "    y = Data['Anomaly_Tag']\n",
    "    y = y.astype(int)\n",
    "    \n",
    "    Xtrain, Xtest, ytrain, ytest = train_test_split(X, y, test_size=0.30, random_state=42, stratify = y)\n",
    "    \n",
    "    return Xtrain, Xtest, ytrain, ytest\n",
    "\n",
    "#Call the function here\n",
    "Xtrain, Xtest, ytrain, ytest = myTrainTestSplit(normalData, anomalousData)"
   ]
  },
  {
   "cell_type": "code",
   "execution_count": 7,
   "metadata": {},
   "outputs": [
    {
     "name": "stdout",
     "output_type": "stream",
     "text": [
      "0    53615\n",
      "1     1819\n",
      "Name: Anomaly_Tag, dtype: int64\n",
      "0    22978\n",
      "1      780\n",
      "Name: Anomaly_Tag, dtype: int64\n"
     ]
    }
   ],
   "source": [
    "print(ytrain.value_counts())\n",
    "print(ytest.value_counts())"
   ]
  },
  {
   "cell_type": "code",
   "execution_count": 8,
   "metadata": {},
   "outputs": [],
   "source": [
    "### Q2B) - 5pts\n",
    "def myDecisionTree(Xtrain, ytrain):\n",
    "    myDecisionTreeModel = DecisionTreeClassifier(random_state=42)\n",
    "    myDecisionTreeModel.fit(Xtrain, ytrain)\n",
    "    return myDecisionTreeModel"
   ]
  },
  {
   "cell_type": "code",
   "execution_count": 9,
   "metadata": {},
   "outputs": [],
   "source": [
    "### Q2C) - 5pts\n",
    "def myBagging(Xtrain, ytrain):\n",
    "    myBaggingModel = BaggingClassifier(base_estimator=DecisionTreeClassifier(), n_estimators=10, random_state=42)\n",
    "    myBaggingModel.fit(Xtrain, ytrain)\n",
    "    return myBaggingModel"
   ]
  },
  {
   "cell_type": "code",
   "execution_count": 10,
   "metadata": {
    "id": "Rdw3xDzGZdAb"
   },
   "outputs": [],
   "source": [
    "### Q2D) - 5pts\n",
    "def myRandomForest(Xtrain, ytrain):\n",
    "    myRandomForestModel = RandomForestClassifier(n_estimators=10, random_state=42)\n",
    "    myRandomForestModel.fit(Xtrain, ytrain)\n",
    "    return myRandomForestModel"
   ]
  },
  {
   "cell_type": "code",
   "execution_count": 11,
   "metadata": {},
   "outputs": [
    {
     "data": {
      "image/png": "[encoded data removed]",
      "text/plain": [
       "<Figure size 640x480 with 1 Axes>"
      ]
     },
     "metadata": {},
     "output_type": "display_data"
    }
   ],
   "source": [
    "### Q2E) - 10pts\n",
    "def myRandomForestFeatureImportance(myRandomForestModel):\n",
    "    feature_names = Xtrain.columns\n",
    "    f_importances = pd.Series(\n",
    "        myRandomForestModel.feature_importances_, index=feature_names\n",
    "    ).sort_values()\n",
    "    ax = f_importances.plot.barh()\n",
    "    ax.set_title(\"Random Forest Feature Importances\")\n",
    "    ax.figure.tight_layout()\n",
    "\n",
    "#Call the function here\n",
    "myRandomForestModel = myRandomForest(Xtrain, ytrain)\n",
    "myRandomForestFeatureImportance(myRandomForestModel)"
   ]
  },
  {
   "cell_type": "code",
   "execution_count": 12,
   "metadata": {},
   "outputs": [
    {
     "name": "stderr",
     "output_type": "stream",
     "text": [
      "C:\\Users\\Piran\\anaconda3\\Lib\\site-packages\\sklearn\\ensemble\\_base.py:156: FutureWarning: `base_estimator` was renamed to `estimator` in version 1.2 and will be removed in 1.4.\n",
      "  warnings.warn(\n"
     ]
    },
    {
     "name": "stdout",
     "output_type": "stream",
     "text": [
      "Training time of Decision Tree: 1.1884584426879883 s\n",
      "Training time of Bagging: 8.275821924209595 s\n",
      "Training time of Random Forest: 3.589637041091919 s\n",
      "ConfusionMatrix of Decision Tree:\n",
      "[[22925    53]\n",
      " [   77   703]]\n",
      "ConfusionMatrix of Bagging:\n",
      "[[22958    20]\n",
      " [   88   692]]\n",
      "ConfusionMatrix of Random Forest:\n",
      "[[22967    11]\n",
      " [   93   687]]\n",
      "Metrics of Decision Tree:\n",
      "[['recall' '0.9012820512820513']\n",
      " ['precision' '0.9298941798941799']\n",
      " ['f1' '0.9153645833333334']]\n",
      "Metrics of Bagging:\n",
      "[['recall' '0.8871794871794871']\n",
      " ['precision' '0.9719101123595506']\n",
      " ['f1' '0.9276139410187667']]\n",
      "Metrics of Random Forest:\n",
      "[['recall' '0.8807692307692307']\n",
      " ['precision' '0.9842406876790831']\n",
      " ['f1' '0.9296346414073071']]\n"
     ]
    }
   ],
   "source": [
    "def myEvaluateSupervisedModelPerformance(Xtrain, Xtest, ytrain, ytest):\n",
    "    t1 = time.time()\n",
    "    myDecisionTreeModel = myDecisionTree(Xtrain, ytrain)\n",
    "    t2 = time.time()\n",
    "    myBaggingModel = myBagging(Xtrain, ytrain)\n",
    "    t3 = time.time()\n",
    "    myRandomForestModel = myRandomForest(Xtrain, ytrain)\n",
    "    t4 = time.time()\n",
    "    print(\"Training time of Decision Tree: \"+str(t2-t1)+\" s\")\n",
    "    print(\"Training time of Bagging: \"+str(t3-t2)+\" s\")\n",
    "    print(\"Training time of Random Forest: \"+str(t4-t3)+\" s\")\n",
    "\n",
    "    ypred_DT = myDecisionTreeModel.predict(Xtest)\n",
    "    ypred_Bagging = myBaggingModel.predict(Xtest)    \n",
    "    ypred_RF = myRandomForestModel.predict(Xtest)\n",
    "\n",
    "    DT_Results = np.array([('recall', recall_score(ytest, ypred_DT)),('precision', precision_score(ytest, ypred_DT)),('f1', f1_score(ytest, ypred_DT))])    \n",
    "    Bagging_Results = np.array([('recall', recall_score(ytest, ypred_Bagging)),('precision', precision_score(ytest, ypred_Bagging)),('f1', f1_score(ytest, ypred_Bagging))])\n",
    "    RF_Results = np.array([('recall', recall_score(ytest, ypred_RF)),('precision', precision_score(ytest, ypred_RF)),('f1', f1_score(ytest, ypred_RF))])\n",
    "\n",
    "    DT_cm = confusion_matrix(ytest, ypred_DT)\n",
    "    Bagging_cm = confusion_matrix(ytest, ypred_Bagging)\n",
    "    RF_cm = confusion_matrix(ytest, ypred_RF)\n",
    "\n",
    "    print(\"ConfusionMatrix of Decision Tree:\")\n",
    "    print(DT_cm)    \n",
    "    print(\"ConfusionMatrix of Bagging:\")\n",
    "    print(Bagging_cm)    \n",
    "    print(\"ConfusionMatrix of Random Forest:\")\n",
    "    print(RF_cm)\n",
    "    \n",
    "    return DT_Results, Bagging_Results, RF_Results\n",
    "\n",
    "#Call the function here\n",
    "DT_Results, Bagging_Results, RF_Results = myEvaluateSupervisedModelPerformance(Xtrain, Xtest, ytrain, ytest)\n",
    "print(\"Metrics of Decision Tree:\")\n",
    "print(DT_Results)\n",
    "print(\"Metrics of Bagging:\")\n",
    "print(Bagging_Results)\n",
    "print(\"Metrics of Random Forest:\")\n",
    "print(RF_Results)"
   ]
  },
  {
   "cell_type": "markdown",
   "metadata": {},
   "source": [
    "## Section 2\n",
    "### Part 1\n",
    "The metrics chosen are commonly used to evaluate anomaly detection models as they give an indicator about how confident we should be when it comes to distinguishing anomalies.\n",
    "*   Recall helps identify the proportion of true anomalies that were correctly classified (TP) out of all actual anomalies (TP+FN).\n",
    "*   Precision identifies the proportion of correctly classified anomalies (TP) out of all predicted anomalies (TP+FP)\n",
    "*   F1 score combines the previous metrics using harmonic mean, and it serves as a good indicator for the performance especially in case of imbalanced data (as opposed to accuracy), which is the case here.\n",
    "\n",
    "### Part 2\n",
    "The performance of the Bagging model is better than the Decision Tree model, but the training time of the Bagging model is much higher.   \n",
    "This is because the Bagging model consisting of 10 decision trees has better generalization ability than a single Decision Tree. Additionally, the bagging ensemble strategy has reduced the variance of single Decision Trees. However, bagging is an ensemble model that consists of multiple decision trees and has much higher computational complexity.\n",
    "\n",
    "\n",
    "### Part 3\n",
    "The performance of the Random Forest model is similar to the Bagging model, but the training time of the Random Forest model is much lower.   \n",
    "This is because the Random Forest model uses random subsets of the features to build each base tree, while the Bagging model use all the features to build base trees. Although using random feature subsets can reduce correlations of trees, it may also slightly reduce the overall performance, as certain information may be lost by only selecting a subset of features. On the other hand, using random feature subsets to build base trees can greatly reduce the model complexity and training time. Overall, both Bagging and Random Forest use the bagging ensemble strategy to build base decision trees, so their performances are often similar.\n"
   ]
  },
  {
   "cell_type": "markdown",
   "metadata": {},
   "source": [
    "## Dimensionality Reduction\n",
    "\n",
    "A) Build the pipeline that uses a Principal Component Analysis (PCA) model to extract 2 principal components of the training set and create a a Random Forest model that consists of 50 base decision trees (same as the model in 2D).  Fill in the myPCARF function, which accepts as input the training set and returns a fully trained model. \n",
    "\n",
    "B) Fill in the myEvaluateUnsupervisedModelPerformance function, which takes as input the training and test sets. Please note, you will need to call your functions from 3A within this function to train your models. \n",
    "- Calculate the training time for comparing models. \n",
    "- Evaluate the performance of your model on the test set using the 3 same metrics from 2F. Return three numpy arrays consisting of the three metrics calculated for the model and print them out. \n",
    "- Also, print out the confusion matrix of your model on the test set. \n",
    "\n",
    "*Note: This function can be the same as the function from 2F, but remember to change the model name.*\n"
   ]
  },
  {
   "cell_type": "code",
   "execution_count": 13,
   "metadata": {},
   "outputs": [],
   "source": [
    "def myPCARF(Xtrain, ytrain):\n",
    "    myPCARFModel = Pipeline([\n",
    "    ('pca', PCA(n_components=2, random_state=42)),\n",
    "    ('random_forest', RandomForestClassifier(n_estimators=50, random_state=42))\n",
    "  ])\n",
    "    myPCARFModel.fit(Xtrain, ytrain)\n",
    "    return myPCARFModel"
   ]
  },
  {
   "cell_type": "code",
   "execution_count": 14,
   "metadata": {
    "colab": {
     "base_uri": "https://localhost:8080/"
    },
    "id": "ldPs5xBRa7Q5",
    "outputId": "223857e9-24a7-4889-b543-1300726f575f"
   },
   "outputs": [
    {
     "name": "stdout",
     "output_type": "stream",
     "text": [
      "Training time of PCA + Random Forest: 8.676892757415771 s\n",
      "ConfusionMatrix of PCA + Random Forest:\n",
      "[[22841   137]\n",
      " [  417   363]]\n",
      "Metrics of PCA + Random Forest:\n",
      "[['recall' '0.4653846153846154']\n",
      " ['precision' '0.726']\n",
      " ['f1' '0.5671875']]\n"
     ]
    }
   ],
   "source": [
    "def myEvaluateUnsupervisedModelPerformance(Xtrain, Xtest, ytrain, ytest):\n",
    "    t1 = time.time()\n",
    "    myPCARFModel = myPCARF(Xtrain, ytrain)\n",
    "    t2 = time.time()\n",
    "    print(\"Training time of PCA + Random Forest: \"+str(t2-t1)+\" s\")\n",
    "\n",
    "    ypred_PCARF = myPCARFModel.predict(Xtest)\n",
    " \n",
    "    PCARF_Results = np.array([('recall', recall_score(ytest, ypred_PCARF)),('precision', precision_score(ytest, ypred_PCARF)),('f1', f1_score(ytest, ypred_PCARF))])\n",
    "  \n",
    "    PCARF_cm = confusion_matrix(ytest, ypred_PCARF)\n",
    "\n",
    "    print(\"ConfusionMatrix of PCA + Random Forest:\")\n",
    "    print(PCARF_cm)\n",
    "    \n",
    "    return PCARF_Results\n",
    "\n",
    "#Call the function here\n",
    "PCARF_Results = myEvaluateUnsupervisedModelPerformance(Xtrain, Xtest, ytrain, ytest)\n",
    "print(\"Metrics of PCA + Random Forest:\")\n",
    "print(PCARF_Results)"
   ]
  },
  {
   "cell_type": "markdown",
   "metadata": {
    "id": "ttLtyLi1b0IE"
   },
   "source": [
    "The performance of the PCA + Random Forest model is worse than the Random Forest model itself, because the PCA only uses the generated two principal components to train the Random Forest model, while the Random Forest model itself uses all the features. On the other hand, the training time and model complexity has to be decreased by the PCA model, because the dimensionality of the data has been reduced by PCA. However, here we build a Random Forest model that consists of 50 decision trees, so its training time is higher than the model from 2D. The number of principal components can be tuned as a hyperparameter to better balance the model complexity and performance.  "
   ]
  }
 ],
 "metadata": {
  "colab": {
   "collapsed_sections": [
    "3YmD_jy2VkV5",
    "ttLtyLi1b0IE",
    "tLUT1nMwdYKw"
   ],
   "name": "ECE9309_9039_Assignment2_2022.ipynb",
   "provenance": []
  },
  "kernelspec": {
   "display_name": "Python 3 (ipykernel)",
   "language": "python",
   "name": "python3"
  },
  "language_info": {
   "codemirror_mode": {
    "name": "ipython",
    "version": 3
   },
   "file_extension": ".py",
   "mimetype": "text/x-python",
   "name": "python",
   "nbconvert_exporter": "python",
   "pygments_lexer": "ipython3",
   "version": "3.11.4"
  }
 },
 "nbformat": 4,
 "nbformat_minor": 4
}
